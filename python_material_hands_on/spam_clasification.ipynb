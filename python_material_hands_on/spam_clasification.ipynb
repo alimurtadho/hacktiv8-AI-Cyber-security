{
  "nbformat": 4,
  "nbformat_minor": 0,
  "metadata": {
    "colab": {
      "provenance": []
    },
    "kernelspec": {
      "name": "python3",
      "display_name": "Python 3"
    }
  },
  "cells": [
    {
      "cell_type": "code",
      "metadata": {
        "id": "SgarG_CdmzKz"
      },
      "source": [
        "import pandas as pd\n",
        "from sklearn.model_selection import train_test_split\n",
        "from sklearn.feature_extraction.text import CountVectorizer,TfidfVectorizer\n",
        "from sklearn.naive_bayes import MultinomialNB\n",
        "from sklearn.metrics import accuracy_score\n",
        "import string"
      ],
      "execution_count": null,
      "outputs": []
    },
    {
      "cell_type": "code",
      "metadata": {
        "id": "cMXP8SEOeZqe"
      },
      "source": [
        "read_file = pd.read_excel (r'/content/Comment Spam.xls', sheet_name='Data Train')#/content/Comment Spam.xls\n",
        "read_file.to_csv (r'/content\\data.csv', index = None, header=True)\n"
      ],
      "execution_count": null,
      "outputs": []
    },
    {
      "cell_type": "code",
      "metadata": {
        "colab": {
          "base_uri": "https://localhost:8080/"
        },
        "id": "vmNFdrIitGd9",
        "outputId": "99fd1f03-4ffc-45f0-d7ae-f849e19c8fe3"
      },
      "source": [
        "print(read_file)\n"
      ],
      "execution_count": null,
      "outputs": [
        {
          "output_type": "stream",
          "text": [
            "        No                                            Comment  Class\n",
            "0        1                                this song is racist      0\n",
            "1        2  and how many subscribers compared to her over ...      1\n",
            "2        3  HI! CHECK OUT OUR AWESOME COVERS! AND SAY WHAT...      1\n",
            "3        4                                  well done shakira      0\n",
            "4        5                 :D subscribe to me for daily vines      1\n",
            "...    ...                                                ...    ...\n",
            "1295  1296                                      Awsome<br />﻿      0\n",
            "1296  1297                https://www.tsu.co/KodysMan plz ^^﻿      1\n",
            "1297  1298  Sign up for free on TSU and start making money...      1\n",
            "1298  1299  MEGAN FOX AND EMINEM TOGETHER IN A VIDEO  DOES...      0\n",
            "1299  1300                              Great.This is a song﻿      0\n",
            "\n",
            "[1300 rows x 3 columns]\n"
          ],
          "name": "stdout"
        }
      ]
    },
    {
      "cell_type": "code",
      "metadata": {
        "id": "1YqKJfTwtMjJ"
      },
      "source": [
        "df = read_file"
      ],
      "execution_count": null,
      "outputs": []
    },
    {
      "cell_type": "code",
      "metadata": {
        "id": "Q9ZvP_sbegTL",
        "colab": {
          "base_uri": "https://localhost:8080/"
        },
        "outputId": "910c355b-f721-46df-c927-05123eb3eca6"
      },
      "source": [
        "dinfo=df.info()\n",
        "dinfo"
      ],
      "execution_count": null,
      "outputs": [
        {
          "output_type": "stream",
          "text": [
            "<class 'pandas.core.frame.DataFrame'>\n",
            "RangeIndex: 1300 entries, 0 to 1299\n",
            "Data columns (total 3 columns):\n",
            " #   Column   Non-Null Count  Dtype \n",
            "---  ------   --------------  ----- \n",
            " 0   No       1300 non-null   int64 \n",
            " 1   Comment  1300 non-null   object\n",
            " 2   Class    1300 non-null   int64 \n",
            "dtypes: int64(2), object(1)\n",
            "memory usage: 30.6+ KB\n"
          ],
          "name": "stdout"
        }
      ]
    },
    {
      "cell_type": "code",
      "metadata": {
        "colab": {
          "base_uri": "https://localhost:8080/",
          "height": 294
        },
        "id": "1UH5ZRWMjFBz",
        "outputId": "a4864d77-2a3b-4189-ecd1-5aaae4b3167c"
      },
      "source": [
        "df.describe()"
      ],
      "execution_count": null,
      "outputs": [
        {
          "output_type": "execute_result",
          "data": {
            "text/html": [
              "<div>\n",
              "<style scoped>\n",
              "    .dataframe tbody tr th:only-of-type {\n",
              "        vertical-align: middle;\n",
              "    }\n",
              "\n",
              "    .dataframe tbody tr th {\n",
              "        vertical-align: top;\n",
              "    }\n",
              "\n",
              "    .dataframe thead th {\n",
              "        text-align: right;\n",
              "    }\n",
              "</style>\n",
              "<table border=\"1\" class=\"dataframe\">\n",
              "  <thead>\n",
              "    <tr style=\"text-align: right;\">\n",
              "      <th></th>\n",
              "      <th>No</th>\n",
              "      <th>Class</th>\n",
              "    </tr>\n",
              "  </thead>\n",
              "  <tbody>\n",
              "    <tr>\n",
              "      <th>count</th>\n",
              "      <td>1300.000000</td>\n",
              "      <td>1300.000000</td>\n",
              "    </tr>\n",
              "    <tr>\n",
              "      <th>mean</th>\n",
              "      <td>650.500000</td>\n",
              "      <td>0.514615</td>\n",
              "    </tr>\n",
              "    <tr>\n",
              "      <th>std</th>\n",
              "      <td>375.421985</td>\n",
              "      <td>0.499979</td>\n",
              "    </tr>\n",
              "    <tr>\n",
              "      <th>min</th>\n",
              "      <td>1.000000</td>\n",
              "      <td>0.000000</td>\n",
              "    </tr>\n",
              "    <tr>\n",
              "      <th>25%</th>\n",
              "      <td>325.750000</td>\n",
              "      <td>0.000000</td>\n",
              "    </tr>\n",
              "    <tr>\n",
              "      <th>50%</th>\n",
              "      <td>650.500000</td>\n",
              "      <td>1.000000</td>\n",
              "    </tr>\n",
              "    <tr>\n",
              "      <th>75%</th>\n",
              "      <td>975.250000</td>\n",
              "      <td>1.000000</td>\n",
              "    </tr>\n",
              "    <tr>\n",
              "      <th>max</th>\n",
              "      <td>1300.000000</td>\n",
              "      <td>1.000000</td>\n",
              "    </tr>\n",
              "  </tbody>\n",
              "</table>\n",
              "</div>"
            ],
            "text/plain": [
              "                No        Class\n",
              "count  1300.000000  1300.000000\n",
              "mean    650.500000     0.514615\n",
              "std     375.421985     0.499979\n",
              "min       1.000000     0.000000\n",
              "25%     325.750000     0.000000\n",
              "50%     650.500000     1.000000\n",
              "75%     975.250000     1.000000\n",
              "max    1300.000000     1.000000"
            ]
          },
          "metadata": {
            "tags": []
          },
          "execution_count": 6
        }
      ]
    },
    {
      "cell_type": "code",
      "metadata": {
        "id": "HApNc_d7jP0y"
      },
      "source": [
        "df['Length'] = df['Comment'].apply(len)"
      ],
      "execution_count": null,
      "outputs": []
    },
    {
      "cell_type": "code",
      "metadata": {
        "colab": {
          "base_uri": "https://localhost:8080/",
          "height": 202
        },
        "id": "s3FEbucQjVCS",
        "outputId": "c0fe018f-210c-4a07-eeb9-00f32b92ee43"
      },
      "source": [
        "df.head()"
      ],
      "execution_count": null,
      "outputs": [
        {
          "output_type": "execute_result",
          "data": {
            "text/html": [
              "<div>\n",
              "<style scoped>\n",
              "    .dataframe tbody tr th:only-of-type {\n",
              "        vertical-align: middle;\n",
              "    }\n",
              "\n",
              "    .dataframe tbody tr th {\n",
              "        vertical-align: top;\n",
              "    }\n",
              "\n",
              "    .dataframe thead th {\n",
              "        text-align: right;\n",
              "    }\n",
              "</style>\n",
              "<table border=\"1\" class=\"dataframe\">\n",
              "  <thead>\n",
              "    <tr style=\"text-align: right;\">\n",
              "      <th></th>\n",
              "      <th>No</th>\n",
              "      <th>Comment</th>\n",
              "      <th>Class</th>\n",
              "      <th>Length</th>\n",
              "    </tr>\n",
              "  </thead>\n",
              "  <tbody>\n",
              "    <tr>\n",
              "      <th>0</th>\n",
              "      <td>1</td>\n",
              "      <td>this song is racist</td>\n",
              "      <td>0</td>\n",
              "      <td>19</td>\n",
              "    </tr>\n",
              "    <tr>\n",
              "      <th>1</th>\n",
              "      <td>2</td>\n",
              "      <td>and how many subscribers compared to her over ...</td>\n",
              "      <td>1</td>\n",
              "      <td>55</td>\n",
              "    </tr>\n",
              "    <tr>\n",
              "      <th>2</th>\n",
              "      <td>3</td>\n",
              "      <td>HI! CHECK OUT OUR AWESOME COVERS! AND SAY WHAT...</td>\n",
              "      <td>1</td>\n",
              "      <td>57</td>\n",
              "    </tr>\n",
              "    <tr>\n",
              "      <th>3</th>\n",
              "      <td>4</td>\n",
              "      <td>well done shakira</td>\n",
              "      <td>0</td>\n",
              "      <td>17</td>\n",
              "    </tr>\n",
              "    <tr>\n",
              "      <th>4</th>\n",
              "      <td>5</td>\n",
              "      <td>:D subscribe to me for daily vines</td>\n",
              "      <td>1</td>\n",
              "      <td>34</td>\n",
              "    </tr>\n",
              "  </tbody>\n",
              "</table>\n",
              "</div>"
            ],
            "text/plain": [
              "   No                                            Comment  Class  Length\n",
              "0   1                                this song is racist      0      19\n",
              "1   2  and how many subscribers compared to her over ...      1      55\n",
              "2   3  HI! CHECK OUT OUR AWESOME COVERS! AND SAY WHAT...      1      57\n",
              "3   4                                  well done shakira      0      17\n",
              "4   5                 :D subscribe to me for daily vines      1      34"
            ]
          },
          "metadata": {
            "tags": []
          },
          "execution_count": 8
        }
      ]
    },
    {
      "cell_type": "code",
      "metadata": {
        "id": "1APZGz5YjZPk",
        "colab": {
          "base_uri": "https://localhost:8080/",
          "height": 141
        },
        "outputId": "18195102-937d-4f37-c26c-7c806c3fd9f0"
      },
      "source": [
        "df.groupby('Class').count()"
      ],
      "execution_count": null,
      "outputs": [
        {
          "output_type": "execute_result",
          "data": {
            "text/html": [
              "<div>\n",
              "<style scoped>\n",
              "    .dataframe tbody tr th:only-of-type {\n",
              "        vertical-align: middle;\n",
              "    }\n",
              "\n",
              "    .dataframe tbody tr th {\n",
              "        vertical-align: top;\n",
              "    }\n",
              "\n",
              "    .dataframe thead th {\n",
              "        text-align: right;\n",
              "    }\n",
              "</style>\n",
              "<table border=\"1\" class=\"dataframe\">\n",
              "  <thead>\n",
              "    <tr style=\"text-align: right;\">\n",
              "      <th></th>\n",
              "      <th>No</th>\n",
              "      <th>Comment</th>\n",
              "      <th>Length</th>\n",
              "    </tr>\n",
              "    <tr>\n",
              "      <th>Class</th>\n",
              "      <th></th>\n",
              "      <th></th>\n",
              "      <th></th>\n",
              "    </tr>\n",
              "  </thead>\n",
              "  <tbody>\n",
              "    <tr>\n",
              "      <th>0</th>\n",
              "      <td>631</td>\n",
              "      <td>631</td>\n",
              "      <td>631</td>\n",
              "    </tr>\n",
              "    <tr>\n",
              "      <th>1</th>\n",
              "      <td>669</td>\n",
              "      <td>669</td>\n",
              "      <td>669</td>\n",
              "    </tr>\n",
              "  </tbody>\n",
              "</table>\n",
              "</div>"
            ],
            "text/plain": [
              "        No  Comment  Length\n",
              "Class                      \n",
              "0      631      631     631\n",
              "1      669      669     669"
            ]
          },
          "metadata": {
            "tags": []
          },
          "execution_count": 9
        }
      ]
    },
    {
      "cell_type": "code",
      "metadata": {
        "colab": {
          "base_uri": "https://localhost:8080/"
        },
        "id": "amJCiwROiBux",
        "outputId": "ba6f966c-b2cc-4587-f78b-ae3ea28e9a78"
      },
      "source": [
        "df['Length'].describe()"
      ],
      "execution_count": null,
      "outputs": [
        {
          "output_type": "execute_result",
          "data": {
            "text/plain": [
              "count    1300.000000\n",
              "mean       95.585385\n",
              "std       132.694204\n",
              "min         2.000000\n",
              "25%        27.750000\n",
              "50%        44.000000\n",
              "75%        93.000000\n",
              "max      1200.000000\n",
              "Name: Length, dtype: float64"
            ]
          },
          "metadata": {
            "tags": []
          },
          "execution_count": 10
        }
      ]
    },
    {
      "cell_type": "code",
      "metadata": {
        "colab": {
          "base_uri": "https://localhost:8080/",
          "height": 177
        },
        "id": "GYh5bQfIjgdv",
        "outputId": "459e3dd2-a7db-432d-9859-0bd3e43726ba"
      },
      "source": [
        "df[df['Length']==1200]['Comment'].iloc[0]\n"
      ],
      "execution_count": null,
      "outputs": [
        {
          "output_type": "execute_result",
          "data": {
            "application/vnd.google.colaboratory.intrinsic+json": {
              "type": "string"
            },
            "text/plain": [
              "'&lt;script&gt;document.write(\\'&lt;a target=\"_self\" href=\" http://rover.ebay.com/rover/1/710-53481-19255-0/1?icep_ff3=1&amp;pub=5575096797&amp;toolid=10001&amp;campid=5337555197&amp;customid=bogdan+grigore&amp;ipn=psmain&amp;icep_vectorid=229508&amp;kwid=902099&amp;mtid=824&amp;kw=lg\"&gt;check  this out new arive on ebay&lt;/a&gt;&lt;img  style=\"text-decoration:none;border:0;padding:0;margin:0;\" src=\" http://rover.ebay.com/roverimp/1/710-53481-19255-0/1?ff3=1&amp;pub=5575096797&amp;toolid=10001&amp;campid=5337555197&amp;customid=bogdan+grigore&amp;mpt=\\'+Math.floor(Math.random()*999999999)+\\'\"&gt;\\');&lt;/script&gt;&lt;noscript&gt;&lt;a  target=\"_self\" href=\" http://rover.ebay.com/rover/1/710-53481-19255-0/1?icep_ff3=1&amp;pub=5575096797&amp;toolid=10001&amp;campid=5337555197&amp;customid=bogdan+grigore&amp;ipn=psmain&amp;icep_vectorid=229508&amp;kwid=902099&amp;mtid=824&amp;kw=lg\"&gt;check  this out new arive on ebay&lt;/a&gt;&lt;img  style=\"text-decoration:none;border:0;padding:0;margin:0;\" src=\" http://rover.ebay.com/roverimp/1/710-53481-19255-0/1?ff3=1&amp;pub=5575096797&amp;toolid=10001&amp;campid=5337555197&amp;customid=bogdan+grigore&amp;mpt=[CACHEBUSTER] \"&gt;&lt;/noscript&gt;\\ufeff'"
            ]
          },
          "metadata": {
            "tags": []
          },
          "execution_count": 10
        }
      ]
    },
    {
      "cell_type": "markdown",
      "metadata": {
        "id": "c7jmWmpyjowv"
      },
      "source": [
        "## text processing"
      ]
    },
    {
      "cell_type": "code",
      "metadata": {
        "colab": {
          "base_uri": "https://localhost:8080/"
        },
        "id": "zd3X_mI7jqQQ",
        "outputId": "6eca6a06-b662-40fe-cc98-40549078f905"
      },
      "source": [
        "dObject = df['Class'].values\n",
        "dObject"
      ],
      "execution_count": null,
      "outputs": [
        {
          "output_type": "execute_result",
          "data": {
            "text/plain": [
              "array([0, 1, 1, ..., 1, 0, 0])"
            ]
          },
          "metadata": {
            "tags": []
          },
          "execution_count": 11
        }
      ]
    },
    {
      "cell_type": "code",
      "metadata": {
        "colab": {
          "base_uri": "https://localhost:8080/",
          "height": 294
        },
        "id": "dCFF0zMpjyTV",
        "outputId": "1320c8a8-b0fe-409a-c302-b822bd3b4b0a"
      },
      "source": [
        "df.head(8)"
      ],
      "execution_count": null,
      "outputs": [
        {
          "output_type": "execute_result",
          "data": {
            "text/html": [
              "<div>\n",
              "<style scoped>\n",
              "    .dataframe tbody tr th:only-of-type {\n",
              "        vertical-align: middle;\n",
              "    }\n",
              "\n",
              "    .dataframe tbody tr th {\n",
              "        vertical-align: top;\n",
              "    }\n",
              "\n",
              "    .dataframe thead th {\n",
              "        text-align: right;\n",
              "    }\n",
              "</style>\n",
              "<table border=\"1\" class=\"dataframe\">\n",
              "  <thead>\n",
              "    <tr style=\"text-align: right;\">\n",
              "      <th></th>\n",
              "      <th>No</th>\n",
              "      <th>Comment</th>\n",
              "      <th>Class</th>\n",
              "      <th>Length</th>\n",
              "    </tr>\n",
              "  </thead>\n",
              "  <tbody>\n",
              "    <tr>\n",
              "      <th>0</th>\n",
              "      <td>1</td>\n",
              "      <td>this song is racist</td>\n",
              "      <td>0</td>\n",
              "      <td>19</td>\n",
              "    </tr>\n",
              "    <tr>\n",
              "      <th>1</th>\n",
              "      <td>2</td>\n",
              "      <td>and how many subscribers compared to her over ...</td>\n",
              "      <td>1</td>\n",
              "      <td>55</td>\n",
              "    </tr>\n",
              "    <tr>\n",
              "      <th>2</th>\n",
              "      <td>3</td>\n",
              "      <td>HI! CHECK OUT OUR AWESOME COVERS! AND SAY WHAT...</td>\n",
              "      <td>1</td>\n",
              "      <td>57</td>\n",
              "    </tr>\n",
              "    <tr>\n",
              "      <th>3</th>\n",
              "      <td>4</td>\n",
              "      <td>well done shakira</td>\n",
              "      <td>0</td>\n",
              "      <td>17</td>\n",
              "    </tr>\n",
              "    <tr>\n",
              "      <th>4</th>\n",
              "      <td>5</td>\n",
              "      <td>:D subscribe to me for daily vines</td>\n",
              "      <td>1</td>\n",
              "      <td>34</td>\n",
              "    </tr>\n",
              "    <tr>\n",
              "      <th>5</th>\n",
              "      <td>6</td>\n",
              "      <td>Part 2. Holy Mary, pray for us Holy Mother of ...</td>\n",
              "      <td>1</td>\n",
              "      <td>462</td>\n",
              "    </tr>\n",
              "    <tr>\n",
              "      <th>6</th>\n",
              "      <td>7</td>\n",
              "      <td>I really can&amp;#39;t comprehend Miley Cyrus , s...</td>\n",
              "      <td>1</td>\n",
              "      <td>244</td>\n",
              "    </tr>\n",
              "    <tr>\n",
              "      <th>7</th>\n",
              "      <td>8</td>\n",
              "      <td>Nice song ^_^</td>\n",
              "      <td>0</td>\n",
              "      <td>13</td>\n",
              "    </tr>\n",
              "  </tbody>\n",
              "</table>\n",
              "</div>"
            ],
            "text/plain": [
              "   No                                            Comment  Class  Length\n",
              "0   1                                this song is racist      0      19\n",
              "1   2  and how many subscribers compared to her over ...      1      55\n",
              "2   3  HI! CHECK OUT OUR AWESOME COVERS! AND SAY WHAT...      1      57\n",
              "3   4                                  well done shakira      0      17\n",
              "4   5                 :D subscribe to me for daily vines      1      34\n",
              "5   6  Part 2. Holy Mary, pray for us Holy Mother of ...      1     462\n",
              "6   7   I really can&#39;t comprehend Miley Cyrus , s...      1     244\n",
              "7   8                                      Nice song ^_^      0      13"
            ]
          },
          "metadata": {
            "tags": []
          },
          "execution_count": 12
        }
      ]
    },
    {
      "cell_type": "code",
      "metadata": {
        "id": "HmLcEstKj5bi"
      },
      "source": [
        "#clean message from punctuations\n",
        "def cleanMessage(message):\n",
        "    nonPunc = [char for char in message if char not in string.punctuation]\n",
        "    nonPunc = \"\".join(nonPunc)\n",
        "    return nonPunc"
      ],
      "execution_count": null,
      "outputs": []
    },
    {
      "cell_type": "code",
      "metadata": {
        "id": "WuBZUvTIj9HE"
      },
      "source": [
        "#tokenization (process of converting the normal text strings in to a list of tokens(also known as lemmas)).)\n",
        "df['Comment'] = df['Comment'].apply(cleanMessage)\n",
        "\n"
      ],
      "execution_count": null,
      "outputs": []
    },
    {
      "cell_type": "code",
      "metadata": {
        "id": "pGBdBodUkJe0"
      },
      "source": [
        "#vector the SciKit Learn's algorithm models can work with and machine learning model\n",
        "CV = CountVectorizer(stop_words=\"english\")"
      ],
      "execution_count": null,
      "outputs": []
    },
    {
      "cell_type": "code",
      "metadata": {
        "id": "TNbcT1OYkjRx"
      },
      "source": [
        "xSet = df['Comment'].values\n",
        "ySet = df['Class'].values"
      ],
      "execution_count": null,
      "outputs": []
    },
    {
      "cell_type": "markdown",
      "metadata": {
        "id": "3yqKQAJwks4D"
      },
      "source": [
        "## Splitting Train and Test Data"
      ]
    },
    {
      "cell_type": "code",
      "metadata": {
        "id": "j5KBcpF-kqNw"
      },
      "source": [
        "xSet_train,xSet_test,ySet_train,ySet_test = train_test_split(xSet,ySet,test_size=0.2)"
      ],
      "execution_count": null,
      "outputs": []
    },
    {
      "cell_type": "code",
      "metadata": {
        "id": "YBcIw0COkvz8"
      },
      "source": [
        "xSet_train_CV = CV.fit_transform(xSet_train)"
      ],
      "execution_count": null,
      "outputs": []
    },
    {
      "cell_type": "markdown",
      "metadata": {
        "id": "L5JC0W9nkwx8"
      },
      "source": [
        "## Training a model¶\n",
        "### with naive bayes"
      ]
    },
    {
      "cell_type": "code",
      "metadata": {
        "colab": {
          "base_uri": "https://localhost:8080/"
        },
        "id": "aW5IGRd3k1c1",
        "outputId": "2c48477c-63da-4877-a01b-4d4893e680cf"
      },
      "source": [
        "NB = MultinomialNB()\n",
        "NB.fit(xSet_train_CV,ySet_train)"
      ],
      "execution_count": null,
      "outputs": [
        {
          "output_type": "execute_result",
          "data": {
            "text/plain": [
              "MultinomialNB(alpha=1.0, class_prior=None, fit_prior=True)"
            ]
          },
          "metadata": {
            "tags": []
          },
          "execution_count": 19
        }
      ]
    },
    {
      "cell_type": "code",
      "metadata": {
        "id": "tsIwzElgk57n"
      },
      "source": [
        "xSet_test_CV = CV.transform(xSet_test)"
      ],
      "execution_count": null,
      "outputs": []
    },
    {
      "cell_type": "code",
      "metadata": {
        "id": "HQZXlowvk9-p"
      },
      "source": [
        "ySet_predict = NB.predict(xSet_test_CV)"
      ],
      "execution_count": null,
      "outputs": []
    },
    {
      "cell_type": "code",
      "metadata": {
        "id": "v4hB0XLElAve"
      },
      "source": [
        "accuracyScore = accuracy_score(ySet_test,ySet_predict)"
      ],
      "execution_count": null,
      "outputs": []
    },
    {
      "cell_type": "code",
      "metadata": {
        "colab": {
          "base_uri": "https://localhost:8080/"
        },
        "id": "ZijbU2gclDSq",
        "outputId": "c9e28d4a-b69f-4e4b-dfbc-d530cede6b9a"
      },
      "source": [
        "print(\"Prediction Accuracy :\",accuracyScore)"
      ],
      "execution_count": null,
      "outputs": [
        {
          "output_type": "stream",
          "text": [
            "Prediction Accuracy : 0.8384615384615385\n"
          ],
          "name": "stdout"
        }
      ]
    },
    {
      "cell_type": "code",
      "metadata": {
        "colab": {
          "base_uri": "https://localhost:8080/"
        },
        "id": "iwkuspjTlF_X",
        "outputId": "9a0ad79d-ea22-41d2-cc2f-e0e4b20411f2"
      },
      "source": [
        "msg = input(\"Enter Message: \")\n",
        "msgInput = CV.transform([msg])\n",
        "predict = NB.predict(msgInput)\n",
        "if(predict[0]==0):\n",
        "    print(\"------------------------not spam---------------------------\")\n",
        "else:\n",
        "    print(\"---------------------------this is spam------------------------------\")"
      ],
      "execution_count": null,
      "outputs": [
        {
          "output_type": "stream",
          "text": [
            "Enter Message: Part 2. Holy Mary, pray for us Holy Mother of God, pray for us Holy Virgin of virgins, pray for us Mother of Christ, pray for us Mother of divine grace,\n",
            "---------------------------this is spam------------------------------\n"
          ],
          "name": "stdout"
        }
      ]
    }
  ]
}